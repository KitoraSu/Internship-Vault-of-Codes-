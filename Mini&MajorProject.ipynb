{
 "cells": [
  {
   "cell_type": "code",
   "execution_count": 1,
   "id": "c2f4a8e0-e339-4f4d-9ace-614473ebe285",
   "metadata": {},
   "outputs": [
    {
     "name": "stdout",
     "output_type": "stream",
     "text": [
      "\n",
      "Choose an action:\n",
      "1. Add Task\n",
      "2. Delete Task\n",
      "3. View Tasks\n",
      "4. Mark Task Complete\n",
      "5. Exit\n"
     ]
    },
    {
     "name": "stdin",
     "output_type": "stream",
     "text": [
      "Enter your choice:  1\n",
      "Enter new task:  Task A\n"
     ]
    },
    {
     "name": "stdout",
     "output_type": "stream",
     "text": [
      "Task added!\n",
      "\n",
      "Choose an action:\n",
      "1. Add Task\n",
      "2. Delete Task\n",
      "3. View Tasks\n",
      "4. Mark Task Complete\n",
      "5. Exit\n"
     ]
    },
    {
     "name": "stdin",
     "output_type": "stream",
     "text": [
      "Enter your choice:  1\n",
      "Enter new task:  Task B\n"
     ]
    },
    {
     "name": "stdout",
     "output_type": "stream",
     "text": [
      "Task added!\n",
      "\n",
      "Choose an action:\n",
      "1. Add Task\n",
      "2. Delete Task\n",
      "3. View Tasks\n",
      "4. Mark Task Complete\n",
      "5. Exit\n"
     ]
    },
    {
     "name": "stdin",
     "output_type": "stream",
     "text": [
      "Enter your choice:  3\n"
     ]
    },
    {
     "name": "stdout",
     "output_type": "stream",
     "text": [
      "1. Task A\n",
      "2. Task B\n",
      "\n",
      "Choose an action:\n",
      "1. Add Task\n",
      "2. Delete Task\n",
      "3. View Tasks\n",
      "4. Mark Task Complete\n",
      "5. Exit\n"
     ]
    },
    {
     "name": "stdin",
     "output_type": "stream",
     "text": [
      "Enter your choice:  4\n"
     ]
    },
    {
     "name": "stdout",
     "output_type": "stream",
     "text": [
      "1. Task A\n",
      "2. Task B\n"
     ]
    },
    {
     "name": "stdin",
     "output_type": "stream",
     "text": [
      "Enter the number of the task to mark as complete:  2\n"
     ]
    },
    {
     "name": "stdout",
     "output_type": "stream",
     "text": [
      "Task marked complete!\n",
      "\n",
      "Choose an action:\n",
      "1. Add Task\n",
      "2. Delete Task\n",
      "3. View Tasks\n",
      "4. Mark Task Complete\n",
      "5. Exit\n"
     ]
    },
    {
     "name": "stdin",
     "output_type": "stream",
     "text": [
      "Enter your choice:  2\n"
     ]
    },
    {
     "name": "stdout",
     "output_type": "stream",
     "text": [
      "1. Task A\n",
      "2. [DONE] Task B\n"
     ]
    },
    {
     "name": "stdin",
     "output_type": "stream",
     "text": [
      "Enter the number of the task to delete:  1\n"
     ]
    },
    {
     "name": "stdout",
     "output_type": "stream",
     "text": [
      "Task deleted!\n",
      "\n",
      "Choose an action:\n",
      "1. Add Task\n",
      "2. Delete Task\n",
      "3. View Tasks\n",
      "4. Mark Task Complete\n",
      "5. Exit\n"
     ]
    },
    {
     "name": "stdin",
     "output_type": "stream",
     "text": [
      "Enter your choice:  3\n"
     ]
    },
    {
     "name": "stdout",
     "output_type": "stream",
     "text": [
      "1. [DONE] Task B\n",
      "\n",
      "Choose an action:\n",
      "1. Add Task\n",
      "2. Delete Task\n",
      "3. View Tasks\n",
      "4. Mark Task Complete\n",
      "5. Exit\n"
     ]
    },
    {
     "name": "stdin",
     "output_type": "stream",
     "text": [
      "Enter your choice:  5\n"
     ]
    }
   ],
   "source": [
    "todo_list = []\n",
    "\n",
    "def add_task():\n",
    "    task = input(\"Enter new task: \")\n",
    "    todo_list.append(task)\n",
    "    print(\"Task added!\")\n",
    "\n",
    "def delete_task():\n",
    "    display_tasks()\n",
    "    index = int(input(\"Enter the number of the task to delete: \")) - 1 \n",
    "    if 0 <= index < len(todo_list):\n",
    "        del todo_list[index]\n",
    "        print(\"Task deleted!\")\n",
    "    else:\n",
    "        print(\"Invalid task number\")\n",
    "\n",
    "def display_tasks():\n",
    "    if not todo_list:\n",
    "        print(\"No tasks in the list!\")\n",
    "    else:\n",
    "        for i, task in enumerate(todo_list):\n",
    "            print(f\"{i+1}. {task}\")\n",
    "\n",
    "def mark_complete():\n",
    "    display_tasks()\n",
    "    index = int(input(\"Enter the number of the task to mark as complete: \")) - 1 \n",
    "    if 0 <= index < len(todo_list):\n",
    "        todo_list[index] = f\"[DONE] {todo_list[index]}\" \n",
    "        print(\"Task marked complete!\")\n",
    "    else:\n",
    "        print(\"Invalid task number\")\n",
    "\n",
    "while True:\n",
    "    print(\"\\nChoose an action:\")\n",
    "    print(\"1. Add Task\")\n",
    "    print(\"2. Delete Task\")\n",
    "    print(\"3. View Tasks\")\n",
    "    print(\"4. Mark Task Complete\")\n",
    "    print(\"5. Exit\")\n",
    "\n",
    "    choice = input(\"Enter your choice: \")\n",
    "\n",
    "    if choice == '1':\n",
    "        add_task()\n",
    "    elif choice == '2':\n",
    "        delete_task()\n",
    "    elif choice == '3':\n",
    "        display_tasks()\n",
    "    elif choice == '4':\n",
    "        mark_complete()\n",
    "    elif choice == '5':\n",
    "        break\n",
    "    else:\n",
    "        print(\"Invalid choice\")\n"
   ]
  },
  {
   "cell_type": "code",
   "execution_count": null,
   "id": "f81f7595-09fd-497d-851b-fbea8d1c4b98",
   "metadata": {},
   "outputs": [],
   "source": []
  },
  {
   "cell_type": "code",
   "execution_count": 2,
   "id": "49ff948c-a8b4-4d17-8a76-7c1c56019a8e",
   "metadata": {},
   "outputs": [],
   "source": [
    "import tkinter as tk\n",
    "import requests\n",
    "import time\n",
    " \n",
    "\n",
    "def getWeather(canvas):\n",
    "    city = textField.get()\n",
    "    api = \"https://api.openweathermap.org/data/2.5/weather?q=\"+city+\"&appid=06c921750b9a82d8f5d1294e1586276f\"\n",
    "    \n",
    "    json_data = requests.get(api).json()\n",
    "    condition = json_data['weather'][0]['main']\n",
    "    temp = int(json_data['main']['temp'] - 273.15)\n",
    "    min_temp = int(json_data['main']['temp_min'] - 273.15)\n",
    "    max_temp = int(json_data['main']['temp_max'] - 273.15)\n",
    "    pressure = json_data['main']['pressure']\n",
    "    humidity = json_data['main']['humidity']\n",
    "    wind = json_data['wind']['speed']\n",
    "    sunrise = time.strftime('%I:%M:%S', time.gmtime(json_data['sys']['sunrise'] - 21600))\n",
    "    sunset = time.strftime('%I:%M:%S', time.gmtime(json_data['sys']['sunset'] - 21600))\n",
    "\n",
    "    final_info = condition + \"\\n\" + str(temp) + \"°C\" \n",
    "    final_data = \"\\n\"+ \"Min Temp: \" + str(min_temp) + \"°C\" + \"\\n\" + \"Max Temp: \" + str(max_temp) + \"°C\" +\"\\n\" + \"Pressure: \" + str(pressure) + \"\\n\" +\"Humidity: \" + str(humidity) + \"\\n\" +\"Wind Speed: \" + str(wind) + \"\\n\" + \"Sunrise: \" + sunrise + \"\\n\" + \"Sunset: \" + sunset\n",
    "    label1.config(text = final_info)\n",
    "    label2.config(text = final_data)\n",
    "\n",
    "\n",
    "canvas = tk.Tk()\n",
    "canvas.geometry(\"600x500\")\n",
    "canvas.title(\"Weather App\")\n",
    "f = (\"poppins\", 15, \"bold\")\n",
    "t = (\"poppins\", 35, \"bold\")\n",
    "\n",
    "textField = tk.Entry(canvas, justify='center', width = 20, font = t)\n",
    "textField.pack(pady = 20)\n",
    "textField.focus()\n",
    "textField.bind('<Return>', getWeather)\n",
    "\n",
    "label1 = tk.Label(canvas, font=t)\n",
    "label1.pack()\n",
    "label2 = tk.Label(canvas, font=f)\n",
    "label2.pack()\n",
    "canvas.mainloop()"
   ]
  },
  {
   "cell_type": "code",
   "execution_count": null,
   "id": "1abecf75-da55-49f6-94d9-5eb14965f22f",
   "metadata": {},
   "outputs": [],
   "source": []
  }
 ],
 "metadata": {
  "kernelspec": {
   "display_name": "Python 3 (ipykernel)",
   "language": "python",
   "name": "python3"
  },
  "language_info": {
   "codemirror_mode": {
    "name": "ipython",
    "version": 3
   },
   "file_extension": ".py",
   "mimetype": "text/x-python",
   "name": "python",
   "nbconvert_exporter": "python",
   "pygments_lexer": "ipython3",
   "version": "3.11.5"
  }
 },
 "nbformat": 4,
 "nbformat_minor": 5
}
